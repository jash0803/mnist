{
  "nbformat": 4,
  "nbformat_minor": 0,
  "metadata": {
    "colab": {
      "provenance": []
    },
    "kernelspec": {
      "name": "python3",
      "display_name": "Python 3"
    },
    "language_info": {
      "name": "python"
    }
  },
  "cells": [
    {
      "cell_type": "code",
      "execution_count": 10,
      "metadata": {
        "id": "FqXnX42DbJ-3"
      },
      "outputs": [],
      "source": [
        "import tensorflow as tf\n",
        "from tensorflow import keras\n",
        "import matplotlib.pyplot as plt\n",
        "%matplotlib inline\n",
        "import numpy as np"
      ]
    },
    {
      "cell_type": "code",
      "source": [
        "# Model / data parameters\n",
        "num_classes = 10\n",
        "input_shape = (28, 28, 1)"
      ],
      "metadata": {
        "id": "22rnsUy9bQyn"
      },
      "execution_count": 2,
      "outputs": []
    },
    {
      "cell_type": "code",
      "source": [
        "# Load the data and split it between train and test sets\n",
        "(x_train, y_train), (x_test, y_test) = keras.datasets.mnist.load_data()"
      ],
      "metadata": {
        "id": "bizyizVFbSZf"
      },
      "execution_count": 20,
      "outputs": []
    },
    {
      "cell_type": "code",
      "source": [
        "print(len(x_train))\n",
        "print(len(x_test))"
      ],
      "metadata": {
        "colab": {
          "base_uri": "https://localhost:8080/"
        },
        "id": "bXa54ob3d4yO",
        "outputId": "ffa667b9-976a-4eb7-e23e-b4f0b68db142"
      },
      "execution_count": 21,
      "outputs": [
        {
          "output_type": "stream",
          "name": "stdout",
          "text": [
            "60000\n",
            "10000\n"
          ]
        }
      ]
    },
    {
      "cell_type": "code",
      "source": [
        "plt.matshow(x_train[1])\n",
        "print(y_train[1])"
      ],
      "metadata": {
        "colab": {
          "base_uri": "https://localhost:8080/",
          "height": 455
        },
        "id": "Befxj4B4be2I",
        "outputId": "96421f44-2551-415b-9595-0ab4eb4f1a35"
      },
      "execution_count": 22,
      "outputs": [
        {
          "output_type": "stream",
          "name": "stdout",
          "text": [
            "0\n"
          ]
        },
        {
          "output_type": "display_data",
          "data": {
            "text/plain": [
              "<Figure size 480x480 with 1 Axes>"
            ],
            "image/png": "[encoded data removed]"
          },
          "metadata": {}
        }
      ]
    },
    {
      "cell_type": "markdown",
      "source": [
        "Scaling is necessary to bring all the values in the same range of 0 to 1"
      ],
      "metadata": {
        "id": "WJ0Et2q7g9_x"
      }
    },
    {
      "cell_type": "code",
      "source": [
        "x_train = x_train / 255\n",
        "x_test = x_test / 255"
      ],
      "metadata": {
        "id": "7JCpmxw9grB_"
      },
      "execution_count": 23,
      "outputs": []
    },
    {
      "cell_type": "code",
      "source": [
        "x_train.shape"
      ],
      "metadata": {
        "colab": {
          "base_uri": "https://localhost:8080/"
        },
        "id": "acxFdjAFeQRi",
        "outputId": "3ca91af3-b384-4cc7-bee9-4cc43c681a1a"
      },
      "execution_count": 24,
      "outputs": [
        {
          "output_type": "execute_result",
          "data": {
            "text/plain": [
              "(60000, 28, 28)"
            ]
          },
          "metadata": {},
          "execution_count": 24
        }
      ]
    },
    {
      "cell_type": "markdown",
      "source": [
        "Each image is 28*28 and we need to reshape because we will form a vertical one dimension matrix and then input it to the neural network.\n",
        "```\n",
        "0 o\n",
        "1 o\n",
        "2 o\n",
        ".\n",
        ".\n",
        ".\n",
        "784 o\n",
        "\n",
        "```\n",
        "\n",
        "Thus we convert 2D array into 1D array\n"
      ],
      "metadata": {
        "id": "RvBCzwHEekib"
      }
    },
    {
      "cell_type": "code",
      "source": [
        "x_train_flattened = x_train.reshape(len(x_train), 28*28)\n",
        "x_test_flattened = x_test.reshape(len(x_test), 28*28)"
      ],
      "metadata": {
        "id": "OWQ4typAee1l"
      },
      "execution_count": 25,
      "outputs": []
    },
    {
      "cell_type": "code",
      "source": [
        "x_train_flattened.shape"
      ],
      "metadata": {
        "colab": {
          "base_uri": "https://localhost:8080/"
        },
        "id": "izgsYcw_fHac",
        "outputId": "99e8a383-5771-4257-8c5b-1c9089899984"
      },
      "execution_count": 26,
      "outputs": [
        {
          "output_type": "execute_result",
          "data": {
            "text/plain": [
              "(60000, 784)"
            ]
          },
          "metadata": {},
          "execution_count": 26
        }
      ]
    },
    {
      "cell_type": "markdown",
      "source": [
        "if you don't want to use keras.layers.Flatten(input_shape=(28, 28)) then in model.fit(x_train, y_train, epochs=5) use model.fit(x_train_flattened, y_train, epochs=5)"
      ],
      "metadata": {
        "id": "VhTPC3o0kvi5"
      }
    },
    {
      "cell_type": "markdown",
      "source": [
        "Thumb rule for number of neurons in the hidden layer is\n",
        "1. The number of hidden neurons should be 2/3 the size of the input layer, plus the size of the output layer\n",
        "2. The number of hidden neurons should be less than twice the size of the input layer."
      ],
      "metadata": {
        "id": "aZWUY3AqlfcN"
      }
    },
    {
      "cell_type": "markdown",
      "source": [
        "So here 2*784/3+10 = 532"
      ],
      "metadata": {
        "id": "kv5z5n_0lr7f"
      }
    },
    {
      "cell_type": "code",
      "source": [
        "model = keras.Sequential([\n",
        "    keras.layers.Flatten(input_shape=(28, 28)),\n",
        "    keras.layers.Dense(532, activation='relu'),\n",
        "    keras.layers.Dense(10, activation='sigmoid')\n",
        "])\n",
        "\n",
        "#first number represents the number of neuron in a particular layer\n",
        "#you need to give input shape only in the first layer afterwards it figures out on its own\n",
        "\n",
        "model.compile(optimizer='adam',\n",
        "              loss='sparse_categorical_crossentropy',\n",
        "              metrics=['accuracy'])\n",
        "\n",
        "model.fit(x_train, y_train, epochs=5)"
      ],
      "metadata": {
        "colab": {
          "base_uri": "https://localhost:8080/"
        },
        "id": "SMapBn3lf_51",
        "outputId": "b5d9b896-d54b-4bfa-a870-ed7b4e836f1c"
      },
      "execution_count": 38,
      "outputs": [
        {
          "output_type": "stream",
          "name": "stdout",
          "text": [
            "Epoch 1/5\n",
            "\u001b[1m1875/1875\u001b[0m \u001b[32m━━━━━━━━━━━━━━━━━━━━\u001b[0m\u001b[37m\u001b[0m \u001b[1m15s\u001b[0m 8ms/step - accuracy: 0.9030 - loss: 0.3351\n",
            "Epoch 2/5\n",
            "\u001b[1m1875/1875\u001b[0m \u001b[32m━━━━━━━━━━━━━━━━━━━━\u001b[0m\u001b[37m\u001b[0m \u001b[1m20s\u001b[0m 7ms/step - accuracy: 0.9759 - loss: 0.0793\n",
            "Epoch 3/5\n",
            "\u001b[1m1875/1875\u001b[0m \u001b[32m━━━━━━━━━━━━━━━━━━━━\u001b[0m\u001b[37m\u001b[0m \u001b[1m21s\u001b[0m 8ms/step - accuracy: 0.9844 - loss: 0.0503\n",
            "Epoch 4/5\n",
            "\u001b[1m1875/1875\u001b[0m \u001b[32m━━━━━━━━━━━━━━━━━━━━\u001b[0m\u001b[37m\u001b[0m \u001b[1m20s\u001b[0m 7ms/step - accuracy: 0.9894 - loss: 0.0330\n",
            "Epoch 5/5\n",
            "\u001b[1m1875/1875\u001b[0m \u001b[32m━━━━━━━━━━━━━━━━━━━━\u001b[0m\u001b[37m\u001b[0m \u001b[1m14s\u001b[0m 7ms/step - accuracy: 0.9920 - loss: 0.0250\n"
          ]
        },
        {
          "output_type": "execute_result",
          "data": {
            "text/plain": [
              "<keras.src.callbacks.history.History at 0x7b4b30e527d0>"
            ]
          },
          "metadata": {},
          "execution_count": 38
        }
      ]
    },
    {
      "cell_type": "code",
      "source": [
        "model.evaluate(x_test, y_test)"
      ],
      "metadata": {
        "colab": {
          "base_uri": "https://localhost:8080/"
        },
        "id": "cmYKI4CghKE9",
        "outputId": "682688c1-5f1e-438d-9509-d4d63aea4104"
      },
      "execution_count": 40,
      "outputs": [
        {
          "output_type": "stream",
          "name": "stdout",
          "text": [
            "\u001b[1m313/313\u001b[0m \u001b[32m━━━━━━━━━━━━━━━━━━━━\u001b[0m\u001b[37m\u001b[0m \u001b[1m5s\u001b[0m 12ms/step - accuracy: 0.9751 - loss: 0.0851\n"
          ]
        },
        {
          "output_type": "execute_result",
          "data": {
            "text/plain": [
              "[0.07046878337860107, 0.9789000153541565]"
            ]
          },
          "metadata": {},
          "execution_count": 40
        }
      ]
    },
    {
      "cell_type": "markdown",
      "source": [
        "One example from test dataset"
      ],
      "metadata": {
        "id": "Zl6AMh_1hmpE"
      }
    },
    {
      "cell_type": "code",
      "source": [
        "plt.matshow(x_test[0])"
      ],
      "metadata": {
        "colab": {
          "base_uri": "https://localhost:8080/",
          "height": 455
        },
        "id": "NmtUtmlxhtVd",
        "outputId": "899f04b2-8986-4f8a-c086-c4a27ac93088"
      },
      "execution_count": 41,
      "outputs": [
        {
          "output_type": "execute_result",
          "data": {
            "text/plain": [
              "<matplotlib.image.AxesImage at 0x7b4b30bbf510>"
            ]
          },
          "metadata": {},
          "execution_count": 41
        },
        {
          "output_type": "display_data",
          "data": {
            "text/plain": [
              "<Figure size 480x480 with 1 Axes>"
            ],
            "image/png": "[encoded data removed]"
          },
          "metadata": {}
        }
      ]
    },
    {
      "cell_type": "code",
      "source": [
        "y_prediction = model.predict(x_test)\n",
        "y_prediction[0]"
      ],
      "metadata": {
        "colab": {
          "base_uri": "https://localhost:8080/"
        },
        "id": "bBn91_CJhwhX",
        "outputId": "14ecda69-9cde-40df-eeab-7ec5a3ddbded"
      },
      "execution_count": 42,
      "outputs": [
        {
          "output_type": "stream",
          "name": "stdout",
          "text": [
            "\u001b[1m313/313\u001b[0m \u001b[32m━━━━━━━━━━━━━━━━━━━━\u001b[0m\u001b[37m\u001b[0m \u001b[1m3s\u001b[0m 8ms/step\n"
          ]
        },
        {
          "output_type": "execute_result",
          "data": {
            "text/plain": [
              "array([4.4107619e-03, 1.9516952e-04, 6.6035531e-02, 8.8191563e-01,\n",
              "       3.7598349e-07, 3.0184950e-04, 3.7378612e-08, 9.9999988e-01,\n",
              "       4.9623667e-04, 1.0742505e-02], dtype=float32)"
            ]
          },
          "metadata": {},
          "execution_count": 42
        }
      ]
    },
    {
      "cell_type": "code",
      "source": [
        "np.argmax(y_prediction[0])"
      ],
      "metadata": {
        "colab": {
          "base_uri": "https://localhost:8080/"
        },
        "id": "9bkzRx9-h-4p",
        "outputId": "d5b56fd9-3e0b-4414-f6b7-411760dfd139"
      },
      "execution_count": 31,
      "outputs": [
        {
          "output_type": "execute_result",
          "data": {
            "text/plain": [
              "7"
            ]
          },
          "metadata": {},
          "execution_count": 31
        }
      ]
    },
    {
      "cell_type": "code",
      "source": [
        "y_predicted_labels = [np.argmax(i) for i in y_prediction]"
      ],
      "metadata": {
        "id": "UU1QfYQ4i5zO"
      },
      "execution_count": 43,
      "outputs": []
    },
    {
      "cell_type": "code",
      "source": [
        "cm = tf.math.confusion_matrix(labels=y_test,predictions=y_predicted_labels)\n",
        "cm"
      ],
      "metadata": {
        "colab": {
          "base_uri": "https://localhost:8080/"
        },
        "id": "eLadmcW5i-3K",
        "outputId": "b28822bb-ae02-4ff5-bb17-cb94610bd426"
      },
      "execution_count": 44,
      "outputs": [
        {
          "output_type": "execute_result",
          "data": {
            "text/plain": [
              "<tf.Tensor: shape=(10, 10), dtype=int32, numpy=\n",
              "array([[ 973,    1,    0,    0,    1,    0,    1,    2,    0,    2],\n",
              "       [   0, 1129,    1,    1,    0,    0,    2,    0,    2,    0],\n",
              "       [   5,    1, 1002,    1,    2,    0,    0,   17,    4,    0],\n",
              "       [   2,    1,    1,  997,    1,    0,    0,    6,    2,    0],\n",
              "       [   0,    0,    3,    0,  967,    0,    2,    3,    1,    6],\n",
              "       [   4,    0,    0,   15,    1,  864,    3,    2,    3,    0],\n",
              "       [   3,    2,    0,    1,    6,    2,  943,    0,    1,    0],\n",
              "       [   1,    2,    4,    0,    1,    0,    0, 1018,    1,    1],\n",
              "       [  10,    0,    5,    2,    4,    3,    1,    7,  940,    2],\n",
              "       [   3,    4,    0,    7,   10,    5,    0,   23,    1,  956]],\n",
              "      dtype=int32)>"
            ]
          },
          "metadata": {},
          "execution_count": 44
        }
      ]
    },
    {
      "cell_type": "code",
      "source": [
        "import seaborn as sn\n",
        "plt.figure(figsize = (10,7))\n",
        "sn.heatmap(cm, annot=True, fmt='d')\n",
        "plt.xlabel('Predicted')\n",
        "plt.ylabel('Truth')"
      ],
      "metadata": {
        "colab": {
          "base_uri": "https://localhost:8080/",
          "height": 637
        },
        "id": "fCNlg7oFjB6N",
        "outputId": "9f7d0c4d-0ab1-404d-a6fd-1887018524de"
      },
      "execution_count": 45,
      "outputs": [
        {
          "output_type": "execute_result",
          "data": {
            "text/plain": [
              "Text(95.72222222222221, 0.5, 'Truth')"
            ]
          },
          "metadata": {},
          "execution_count": 45
        },
        {
          "output_type": "display_data",
          "data": {
            "text/plain": [
              "<Figure size 1000x700 with 2 Axes>"
            ],
            "image/png": "[encoded data removed]"
          },
          "metadata": {}
        }
      ]
    },
    {
      "cell_type": "markdown",
      "source": [
        "suppose we take [2,0] then the value is 5 and so that means the orignal value was supposed to be 2 but 5 times it predicted 0"
      ],
      "metadata": {
        "id": "zsmHPXgGjG0A"
      }
    }
  ]
}